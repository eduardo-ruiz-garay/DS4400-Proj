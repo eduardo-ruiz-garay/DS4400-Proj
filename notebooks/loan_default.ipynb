{
  "cells": [
    {
      "cell_type": "code",
      "execution_count": 16,
      "id": "6356b348",
      "metadata": {
        "colab": {
          "base_uri": "https://localhost:8080/"
        },
        "id": "6356b348",
        "outputId": "edd27d34-ff2d-45c7-d91c-23d473ad3ce5"
      },
      "outputs": [
        {
          "name": "stdout",
          "output_type": "stream",
          "text": [
            "Number of rows with null values: 0\n"
          ]
        }
      ],
      "source": [
        "import pandas as pd\n",
        "# Step 1 Clean the data\n",
        "df = pd.read_csv(\"../loan_data.csv\")\n",
        "\n",
        "# See if there are rows with nulls that need to be removed\n",
        "rows_with_nulls = df.isna().any(axis=1).sum()\n",
        "print(f\"Number of rows with null values: {rows_with_nulls}\")"
      ]
    },
    {
      "cell_type": "code",
      "execution_count": 17,
      "id": "3fc75f13",
      "metadata": {
        "colab": {
          "base_uri": "https://localhost:8080/"
        },
        "id": "3fc75f13",
        "outputId": "610cb1e9-d890-480f-813a-115fcb31236d"
      },
      "outputs": [
        {
          "name": "stdout",
          "output_type": "stream",
          "text": [
            "         person_age  person_income  person_emp_exp     loan_amnt  \\\n",
            "count  45000.000000   4.500000e+04    45000.000000  45000.000000   \n",
            "mean      27.764178   8.031905e+04        5.410333   9583.157556   \n",
            "std        6.045108   8.042250e+04        6.063532   6314.886691   \n",
            "min       20.000000   8.000000e+03        0.000000    500.000000   \n",
            "25%       24.000000   4.720400e+04        1.000000   5000.000000   \n",
            "50%       26.000000   6.704800e+04        4.000000   8000.000000   \n",
            "75%       30.000000   9.578925e+04        8.000000  12237.250000   \n",
            "max      144.000000   7.200766e+06      125.000000  35000.000000   \n",
            "\n",
            "       loan_int_rate  loan_percent_income  cb_person_cred_hist_length  \\\n",
            "count   45000.000000         45000.000000                45000.000000   \n",
            "mean       11.006606             0.139725                    5.867489   \n",
            "std         2.978808             0.087212                    3.879702   \n",
            "min         5.420000             0.000000                    2.000000   \n",
            "25%         8.590000             0.070000                    3.000000   \n",
            "50%        11.010000             0.120000                    4.000000   \n",
            "75%        12.990000             0.190000                    8.000000   \n",
            "max        20.000000             0.660000                   30.000000   \n",
            "\n",
            "       credit_score   loan_status  \n",
            "count  45000.000000  45000.000000  \n",
            "mean     632.608756      0.222222  \n",
            "std       50.435865      0.415744  \n",
            "min      390.000000      0.000000  \n",
            "25%      601.000000      0.000000  \n",
            "50%      640.000000      0.000000  \n",
            "75%      670.000000      0.000000  \n",
            "max      850.000000      1.000000  \n"
          ]
        }
      ],
      "source": [
        "# Step 2 Some basic EDA\n",
        "print(df.describe())"
      ]
    },
    {
      "cell_type": "code",
      "execution_count": 18,
      "id": "58f3fe8f",
      "metadata": {
        "colab": {
          "base_uri": "https://localhost:8080/",
          "height": 443
        },
        "id": "58f3fe8f",
        "outputId": "5ff859d1-ed66-423c-bff4-c5f66e0e96cc"
      },
      "outputs": [
        {
          "data": {
            "text/html": [
              "<div>\n",
              "<style scoped>\n",
              "    .dataframe tbody tr th:only-of-type {\n",
              "        vertical-align: middle;\n",
              "    }\n",
              "\n",
              "    .dataframe tbody tr th {\n",
              "        vertical-align: top;\n",
              "    }\n",
              "\n",
              "    .dataframe thead th {\n",
              "        text-align: right;\n",
              "    }\n",
              "</style>\n",
              "<table border=\"1\" class=\"dataframe\">\n",
              "  <thead>\n",
              "    <tr style=\"text-align: right;\">\n",
              "      <th></th>\n",
              "      <th>person_age</th>\n",
              "      <th>person_gender</th>\n",
              "      <th>person_education</th>\n",
              "      <th>person_income</th>\n",
              "      <th>person_emp_exp</th>\n",
              "      <th>person_home_ownership</th>\n",
              "      <th>loan_amnt</th>\n",
              "      <th>loan_intent</th>\n",
              "      <th>loan_int_rate</th>\n",
              "      <th>loan_percent_income</th>\n",
              "      <th>cb_person_cred_hist_length</th>\n",
              "      <th>credit_score</th>\n",
              "      <th>previous_loan_defaults_on_file</th>\n",
              "      <th>loan_status</th>\n",
              "    </tr>\n",
              "  </thead>\n",
              "  <tbody>\n",
              "    <tr>\n",
              "      <th>0</th>\n",
              "      <td>22.0</td>\n",
              "      <td>female</td>\n",
              "      <td>Master</td>\n",
              "      <td>71948.0</td>\n",
              "      <td>0</td>\n",
              "      <td>RENT</td>\n",
              "      <td>35000.0</td>\n",
              "      <td>PERSONAL</td>\n",
              "      <td>16.02</td>\n",
              "      <td>0.49</td>\n",
              "      <td>3.0</td>\n",
              "      <td>561</td>\n",
              "      <td>No</td>\n",
              "      <td>1</td>\n",
              "    </tr>\n",
              "    <tr>\n",
              "      <th>1</th>\n",
              "      <td>21.0</td>\n",
              "      <td>female</td>\n",
              "      <td>High School</td>\n",
              "      <td>12282.0</td>\n",
              "      <td>0</td>\n",
              "      <td>OWN</td>\n",
              "      <td>1000.0</td>\n",
              "      <td>EDUCATION</td>\n",
              "      <td>11.14</td>\n",
              "      <td>0.08</td>\n",
              "      <td>2.0</td>\n",
              "      <td>504</td>\n",
              "      <td>Yes</td>\n",
              "      <td>0</td>\n",
              "    </tr>\n",
              "    <tr>\n",
              "      <th>2</th>\n",
              "      <td>25.0</td>\n",
              "      <td>female</td>\n",
              "      <td>High School</td>\n",
              "      <td>12438.0</td>\n",
              "      <td>3</td>\n",
              "      <td>MORTGAGE</td>\n",
              "      <td>5500.0</td>\n",
              "      <td>MEDICAL</td>\n",
              "      <td>12.87</td>\n",
              "      <td>0.44</td>\n",
              "      <td>3.0</td>\n",
              "      <td>635</td>\n",
              "      <td>No</td>\n",
              "      <td>1</td>\n",
              "    </tr>\n",
              "    <tr>\n",
              "      <th>3</th>\n",
              "      <td>23.0</td>\n",
              "      <td>female</td>\n",
              "      <td>Bachelor</td>\n",
              "      <td>79753.0</td>\n",
              "      <td>0</td>\n",
              "      <td>RENT</td>\n",
              "      <td>35000.0</td>\n",
              "      <td>MEDICAL</td>\n",
              "      <td>15.23</td>\n",
              "      <td>0.44</td>\n",
              "      <td>2.0</td>\n",
              "      <td>675</td>\n",
              "      <td>No</td>\n",
              "      <td>1</td>\n",
              "    </tr>\n",
              "    <tr>\n",
              "      <th>4</th>\n",
              "      <td>24.0</td>\n",
              "      <td>male</td>\n",
              "      <td>Master</td>\n",
              "      <td>66135.0</td>\n",
              "      <td>1</td>\n",
              "      <td>RENT</td>\n",
              "      <td>35000.0</td>\n",
              "      <td>MEDICAL</td>\n",
              "      <td>14.27</td>\n",
              "      <td>0.53</td>\n",
              "      <td>4.0</td>\n",
              "      <td>586</td>\n",
              "      <td>No</td>\n",
              "      <td>1</td>\n",
              "    </tr>\n",
              "  </tbody>\n",
              "</table>\n",
              "</div>"
            ],
            "text/plain": [
              "   person_age person_gender person_education  person_income  person_emp_exp  \\\n",
              "0        22.0        female           Master        71948.0               0   \n",
              "1        21.0        female      High School        12282.0               0   \n",
              "2        25.0        female      High School        12438.0               3   \n",
              "3        23.0        female         Bachelor        79753.0               0   \n",
              "4        24.0          male           Master        66135.0               1   \n",
              "\n",
              "  person_home_ownership  loan_amnt loan_intent  loan_int_rate  \\\n",
              "0                  RENT    35000.0    PERSONAL          16.02   \n",
              "1                   OWN     1000.0   EDUCATION          11.14   \n",
              "2              MORTGAGE     5500.0     MEDICAL          12.87   \n",
              "3                  RENT    35000.0     MEDICAL          15.23   \n",
              "4                  RENT    35000.0     MEDICAL          14.27   \n",
              "\n",
              "   loan_percent_income  cb_person_cred_hist_length  credit_score  \\\n",
              "0                 0.49                         3.0           561   \n",
              "1                 0.08                         2.0           504   \n",
              "2                 0.44                         3.0           635   \n",
              "3                 0.44                         2.0           675   \n",
              "4                 0.53                         4.0           586   \n",
              "\n",
              "  previous_loan_defaults_on_file  loan_status  \n",
              "0                             No            1  \n",
              "1                            Yes            0  \n",
              "2                             No            1  \n",
              "3                             No            1  \n",
              "4                             No            1  "
            ]
          },
          "execution_count": 18,
          "metadata": {},
          "output_type": "execute_result"
        }
      ],
      "source": [
        "# View df\n",
        "df.head()"
      ]
    },
    {
      "cell_type": "code",
      "execution_count": 19,
      "id": "173a3248",
      "metadata": {
        "colab": {
          "base_uri": "https://localhost:8080/"
        },
        "id": "173a3248",
        "outputId": "880296bb-8b3f-48cc-ecdf-d64e131e42dd"
      },
      "outputs": [
        {
          "name": "stdout",
          "output_type": "stream",
          "text": [
            "Number of columns after preprocessing: 22\n"
          ]
        }
      ],
      "source": [
        "import numpy as np\n",
        "from sklearn import preprocessing\n",
        "from sklearn.model_selection import train_test_split\n",
        "\n",
        "# Step 3 Preprocess\n",
        "\n",
        "# Convert yes no column to boolean\n",
        "loans_bool = (np.where(df[\"previous_loan_defaults_on_file\"] == \"Yes\", True, False)).reshape(-1, 1)\n",
        "\n",
        "# Seperate out dependent variable\n",
        "y = df[\"loan_status\"]\n",
        "\n",
        "\n",
        "# Numerical Variables\n",
        "numerical = df[[\"person_age\", \"person_income\", \"person_emp_exp\", \"loan_amnt\", \"loan_int_rate\", \"loan_percent_income\", \"cb_person_cred_hist_length\", \"credit_score\"]]\n",
        "\n",
        "# Min Max scale numerical data\n",
        "scaler = preprocessing.MinMaxScaler()\n",
        "numerical_scaled = scaler.fit_transform(numerical)\n",
        "\n",
        "\n",
        "# Categorical Variables\n",
        "categorical = df[['person_gender', 'person_education', 'person_home_ownership', 'loan_intent']]\n",
        "categorical_dummies = pd.get_dummies(categorical, drop_first=True)\n",
        "categorical_dummies_array = np.array(categorical_dummies)\n",
        "\n",
        "# Column names / order\n",
        "columns = list(numerical.columns) + list(categorical_dummies.columns) + [\"previous_loan_defaults_on_file\"]\n",
        "\n",
        "# Create Phi with numerical, categorical, and boolean variables\n",
        "Phi = np.hstack((numerical_scaled, categorical_dummies_array, loans_bool))\n",
        "\n",
        "print(f\"Number of columns after preprocessing: {Phi.shape[1]}\")\n",
        "\n",
        "X_train, X_test, y_train, y_test = train_test_split(Phi, y, test_size=0.2, random_state=23)"
      ]
    },
    {
      "cell_type": "code",
      "execution_count": 20,
      "id": "08e3b1f4",
      "metadata": {},
      "outputs": [],
      "source": [
        "# KNN\n",
        "import numpy as np\n",
        "import matplotlib.pyplot as plt\n",
        "\n",
        "def run_knn(X_train, y_train, X_test, y_test, k):\n",
        "    predictions = []\n",
        "\n",
        "    for test_point in X_test:\n",
        "        # L2 distances\n",
        "        distances = np.sqrt(np.sum((X_train - test_point) ** 2, axis=1))\n",
        "\n",
        "        # K nearest neighbors\n",
        "        knn_indices = np.argsort(distances)[:k]\n",
        "        knn_labels = y_train[knn_indices]\n",
        "\n",
        "        # Calculate mode\n",
        "        unique_values, counts = np.unique(knn_labels, return_counts=True)\n",
        "        mode_index = np.argmax(counts)\n",
        "        predicted_class = unique_values[mode_index]\n",
        "\n",
        "        predictions.append(predicted_class)\n",
        "\n",
        "    # Prediction accuracy\n",
        "    y_pred = np.array(predictions)\n",
        "    accuracy = np.mean(y_pred == y_test)\n",
        "    return accuracy, y_pred"
      ]
    },
    {
      "cell_type": "code",
      "execution_count": 21,
      "id": "15a5fa9d",
      "metadata": {
        "colab": {
          "base_uri": "https://localhost:8080/",
          "height": 866
        },
        "id": "15a5fa9d",
        "outputId": "e37a5cf0-a9d3-4cea-86d9-f34357f9475c"
      },
      "outputs": [
        {
          "name": "stdout",
          "output_type": "stream",
          "text": [
            "K = 5, Accuracy: 0.8881\n",
            "K = 10, Accuracy: 0.8914\n",
            "K = 25, Accuracy: 0.8950\n",
            "K = 50, Accuracy: 0.8909\n",
            "K = 75, Accuracy: 0.8854\n",
            "K = 100, Accuracy: 0.8742\n",
            "K = 125, Accuracy: 0.8697\n"
          ]
        }
      ],
      "source": [
        "# Params\n",
        "n = X_train.shape[0]\n",
        "sqrt_n = int(np.sqrt(n).round())  # 190\n",
        "\n",
        "k_values = [5, 10, 25, 50, 75, 100, 125, 150, 175, sqrt_n, 200, 225, 250]   # Some test ks\n",
        "\n",
        "# Convert all to arrays to avoid errors\n",
        "X_train, y_train, X_test, y_test = np.array(X_train), np.array(y_train), np.array(X_test), np.array(y_test)\n",
        "\n",
        "# Run KNN for different k values in a for loop\n",
        "accuracies = []\n",
        "for k in k_values:\n",
        "    accuracy, y_pred = run_knn(X_train, y_train, X_test, y_test, k)\n",
        "    accuracies.append(accuracy)\n",
        "    print(f\"K = {k}, Accuracy: {accuracy:.4f}\")\n",
        "\n",
        "# Plot k vs accuracy\n",
        "plt.plot(k_values, accuracies)\n",
        "plt.xlabel('Number of Neighbors (k)')\n",
        "plt.ylabel('Accuracy')\n",
        "plt.title('KNN Accuracy vs Number of Neighbors')\n",
        "plt.show()"
      ]
    },
    {
      "cell_type": "code",
      "execution_count": 49,
      "id": "5736319d",
      "metadata": {},
      "outputs": [
        {
          "name": "stdout",
          "output_type": "stream",
          "text": [
            "K = 25, Accuracy: 0.8950\n",
            "Precision: 0.8333\n",
            "Recall: 0.6608\n",
            "F1 Score: 0.7371\n",
            "\n",
            "Confusion Matrix:\n",
            "[[6730  265]\n",
            " [ 680 1325]]\n",
            "\n",
            "Classification Report:\n",
            "              precision    recall  f1-score   support\n",
            "\n",
            "           0       0.91      0.96      0.93      6995\n",
            "           1       0.83      0.66      0.74      2005\n",
            "\n",
            "    accuracy                           0.90      9000\n",
            "   macro avg       0.87      0.81      0.84      9000\n",
            "weighted avg       0.89      0.90      0.89      9000\n",
            "\n"
          ]
        }
      ],
      "source": [
        "from sklearn.metrics import classification_report, confusion_matrix, precision_recall_fscore_support\n",
        "\n",
        "# Best k was 25\n",
        "k = 25\n",
        "accuracy, predictions = run_knn(X_train, y_train, X_test, y_test, k)\n",
        "y_pred = np.array(predictions)\n",
        "print(f\"K = {k}, Accuracy: {accuracy:.4f}\")\n",
        "\n",
        "# Precision, recall, and F1 score\n",
        "precision, recall, f1, _ = precision_recall_fscore_support(y_test, y_pred, average='binary')\n",
        "print(f\"Precision: {precision:.4f}\")\n",
        "print(f\"Recall: {recall:.4f}\")\n",
        "print(f\"F1 Score: {f1:.4f}\")\n",
        "\n",
        "# Confusion matrix\n",
        "cm = confusion_matrix(y_test, y_pred)\n",
        "print(\"\\nConfusion Matrix:\")\n",
        "print(cm)\n",
        "\n",
        "# Classification report\n",
        "print(\"\\nClassification Report:\")\n",
        "print(classification_report(y_test, y_pred))\n"
      ]
    },
    {
      "cell_type": "markdown",
      "id": "480a1825",
      "metadata": {},
      "source": [
        "The best k was clearly 25 (though this is also very dependent on the random state), and the results were decently strong with an accuracy of 90% correct predictions. There is clearly a strong class imbalance with more 0s than 1s, and the model is not handling that very well with significantly lower prediction accuracies for predicting a 1 than a 0. This could potentially be improved by imputing some dummy data points. "
      ]
    },
    {
      "cell_type": "code",
      "execution_count": 56,
      "id": "f3196ab3",
      "metadata": {},
      "outputs": [
        {
          "name": "stdout",
          "output_type": "stream",
          "text": [
            "Classification Report:\n",
            "              precision    recall  f1-score   support\n",
            "\n",
            "           0       0.93      0.97      0.95      6995\n",
            "           1       0.90      0.75      0.82      2005\n",
            "\n",
            "    accuracy                           0.93      9000\n",
            "   macro avg       0.91      0.86      0.89      9000\n",
            "weighted avg       0.92      0.93      0.92      9000\n",
            "\n",
            "\n",
            "Confusion Matrix:\n",
            "[[6818  177]\n",
            " [ 493 1512]]\n",
            "\n",
            "Feature Importance:\n",
            "                           Feature  Importance\n",
            "21  previous_loan_defaults_on_file    0.284019\n",
            "4                    loan_int_rate    0.140659\n",
            "5              loan_percent_income    0.139325\n",
            "1                    person_income    0.113094\n",
            "3                        loan_amnt    0.059230\n",
            "7                     credit_score    0.053026\n",
            "15      person_home_ownership_RENT    0.047536\n",
            "0                       person_age    0.031821\n",
            "2                   person_emp_exp    0.028236\n",
            "6       cb_person_cred_hist_length    0.026445\n"
          ]
        }
      ],
      "source": [
        "from sklearn.ensemble import RandomForestClassifier\n",
        "# Random Forest\n",
        "# We can use the same train test as scaling should not matter for random forest\n",
        "\n",
        "rf = RandomForestClassifier(max_depth=None, random_state=23, criterion='entropy')\n",
        "\n",
        "# Train the model\n",
        "rf.fit(X_train, y_train)\n",
        "\n",
        "# Predictions\n",
        "y_pred = rf.predict(X_test)\n",
        "\n",
        "# Model performance\n",
        "print(\"Classification Report:\")\n",
        "print(classification_report(y_test, y_pred))\n",
        "\n",
        "print(\"\\nConfusion Matrix:\")\n",
        "print(confusion_matrix(y_test, y_pred))\n",
        "\n",
        "\n",
        "# Feature importance\n",
        "feature_importance = rf.feature_importances_\n",
        "feature_names = [f\"Feature {i}\" for i in range(Phi.shape[1])]\n",
        "\n",
        "# Make feature importance and display top 10\n",
        "importance_df = pd.DataFrame({'Feature': columns, 'Importance': feature_importance})\n",
        "importance_df = importance_df.sort_values('Importance', ascending=False)\n",
        "print(\"\\nFeature Importance:\")\n",
        "print(importance_df.head(10))\n",
        "\n"
      ]
    },
    {
      "cell_type": "markdown",
      "id": "6756b6a4",
      "metadata": {},
      "source": [
        "The model does better at predicting 0s (defaulting the loan) than 1s (completing the payment). This is likely due to a strong class imbalance with more 0s than 1s in the dataset. Despite the strong imbalance, the model results were relatively good with an accuracy of 93% correct predictions. The model is clearly better than the knn, and significantly outperforms it for predicting 1s.\n",
        "\n",
        "The most important features that provided the best splits were the persons yearly income, the loan percent of the income, the loan interest rate, and by far if the person had previous loan defaults on file. These all make a lot of sense as they seem incredibly relevant to the prediction. All of these statistics are very strongly correlated, so I wonder if they are not all necessary in a simplified model."
      ]
    }
  ],
  "metadata": {
    "colab": {
      "provenance": []
    },
    "kernelspec": {
      "display_name": "base",
      "language": "python",
      "name": "python3"
    },
    "language_info": {
      "codemirror_mode": {
        "name": "ipython",
        "version": 3
      },
      "file_extension": ".py",
      "mimetype": "text/x-python",
      "name": "python",
      "nbconvert_exporter": "python",
      "pygments_lexer": "ipython3",
      "version": "3.11.8"
    }
  },
  "nbformat": 4,
  "nbformat_minor": 5
}
