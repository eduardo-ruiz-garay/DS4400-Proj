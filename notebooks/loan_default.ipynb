{
  "cells": [
    {
<<<<<<< HEAD
=======
      "cell_type": "markdown",
      "id": "0a5f78b6",
      "metadata": {
        "id": "0a5f78b6"
      },
      "source": [
        "\n",
        "Data Dictionary and Overview (from Kaggle https://www.kaggle.com/datasets/udaymalviya/bank-loan-data?resource=download)\n",
        "\n",
        "This dataset contains 45,000 records of loan applicants, with various attributes related to personal demographics, financial status, and loan details.\n",
        "\n",
        "Personal Information\n",
        "\n",
        "person_age: Age of the applicant (in years).\n",
        "\n",
        "person_gender: Gender of the applicant (male, female).\n",
        "\n",
        "person_education: Educational background (High School, Bachelor, Master, etc.).\n",
        "\n",
        "person_income: Annual income of the applicant (in USD).\n",
        "\n",
        "person_emp_exp: Years of employment experience.\n",
        "\n",
        "person_home_ownership: Type of home ownership (RENT, OWN, MORTGAGE).\n",
        "\n",
        "\n",
        "Loan Details\n",
        "\n",
        "loan_amnt: Loan amount requested (in USD).\n",
        "\n",
        "loan_intent: Purpose of the loan (PERSONAL, EDUCATION, MEDICAL, etc.).\n",
        "\n",
        "loan_int_rate: Interest rate on the loan (percentage).\n",
        "\n",
        "loan_percent_income: Ratio of loan amount to income.\n",
        "\n",
        "\n",
        "Credit & Loan History\n",
        "\n",
        "cb_person_cred_hist_length: Length of the applicant\"s credit history (in years).\n",
        "\n",
        "credit_score: Credit score of the applicant.\n",
        "\n",
        "previous_loan_defaults_on_file: Whether the applicant has previous loan defaults (Yes or No).\n",
        "\n",
        "\n",
        "\n",
        "Target Variable\n",
        "\n",
        "loan_status: 1 if the loan was repaid successfully, 0 if the applicant defaulted.\n"
      ]
    },
    {
>>>>>>> 089c65b4f8fc32fa07773919ef5700f49ff55dea
      "cell_type": "code",
      "execution_count": 16,
      "id": "6356b348",
      "metadata": {
        "colab": {
          "base_uri": "https://localhost:8080/"
        },
        "id": "6356b348",
        "outputId": "2fd9856c-c44c-4439-a866-11f4bce9a81d"
      },
      "outputs": [
        {
          "name": "stdout",
          "output_type": "stream",
          "text": [
            "Number of rows with null values: 0\n"
          ]
        }
      ],
      "source": [
        "import pandas as pd\n",
        "# Step 1 Clean the data\n",
        "df = pd.read_csv(\"../loan_data.csv\")\n",
        "\n",
        "# See if there are rows with nulls that need to be removed\n",
        "rows_with_nulls = df.isna().any(axis=1).sum()\n",
        "print(f\"Number of rows with null values: {rows_with_nulls}\")"
      ]
    },
    {
      "cell_type": "code",
<<<<<<< HEAD
      "execution_count": 17,
=======
      "execution_count": null,
>>>>>>> 089c65b4f8fc32fa07773919ef5700f49ff55dea
      "id": "3fc75f13",
      "metadata": {
        "colab": {
          "base_uri": "https://localhost:8080/"
        },
        "id": "3fc75f13",
        "outputId": "610cb1e9-d890-480f-813a-115fcb31236d"
      },
      "outputs": [
        {
          "name": "stdout",
          "output_type": "stream",
          "text": [
            "         person_age  person_income  person_emp_exp     loan_amnt  \\\n",
            "count  45000.000000   4.500000e+04    45000.000000  45000.000000   \n",
            "mean      27.764178   8.031905e+04        5.410333   9583.157556   \n",
            "std        6.045108   8.042250e+04        6.063532   6314.886691   \n",
            "min       20.000000   8.000000e+03        0.000000    500.000000   \n",
            "25%       24.000000   4.720400e+04        1.000000   5000.000000   \n",
            "50%       26.000000   6.704800e+04        4.000000   8000.000000   \n",
            "75%       30.000000   9.578925e+04        8.000000  12237.250000   \n",
            "max      144.000000   7.200766e+06      125.000000  35000.000000   \n",
            "\n",
            "       loan_int_rate  loan_percent_income  cb_person_cred_hist_length  \\\n",
            "count   45000.000000         45000.000000                45000.000000   \n",
            "mean       11.006606             0.139725                    5.867489   \n",
            "std         2.978808             0.087212                    3.879702   \n",
            "min         5.420000             0.000000                    2.000000   \n",
            "25%         8.590000             0.070000                    3.000000   \n",
            "50%        11.010000             0.120000                    4.000000   \n",
            "75%        12.990000             0.190000                    8.000000   \n",
            "max        20.000000             0.660000                   30.000000   \n",
            "\n",
            "       credit_score   loan_status  \n",
            "count  45000.000000  45000.000000  \n",
            "mean     632.608756      0.222222  \n",
            "std       50.435865      0.415744  \n",
            "min      390.000000      0.000000  \n",
            "25%      601.000000      0.000000  \n",
            "50%      640.000000      0.000000  \n",
            "75%      670.000000      0.000000  \n",
            "max      850.000000      1.000000  \n"
          ]
        }
      ],
      "source": [
        "# Step 2 Some basic EDA\n",
<<<<<<< HEAD
        "print(df.describe())"
=======
        "print(df.describe(include=\"all\"))"
>>>>>>> 089c65b4f8fc32fa07773919ef5700f49ff55dea
      ]
    },
    {
      "cell_type": "code",
<<<<<<< HEAD
      "execution_count": 18,
=======
      "execution_count": null,
>>>>>>> 089c65b4f8fc32fa07773919ef5700f49ff55dea
      "id": "58f3fe8f",
      "metadata": {
        "colab": {
          "base_uri": "https://localhost:8080/",
          "height": 443
        },
        "id": "58f3fe8f",
        "outputId": "5ff859d1-ed66-423c-bff4-c5f66e0e96cc"
      },
      "outputs": [
        {
          "data": {
            "text/html": [
              "<div>\n",
              "<style scoped>\n",
              "    .dataframe tbody tr th:only-of-type {\n",
              "        vertical-align: middle;\n",
              "    }\n",
              "\n",
              "    .dataframe tbody tr th {\n",
              "        vertical-align: top;\n",
              "    }\n",
              "\n",
              "    .dataframe thead th {\n",
              "        text-align: right;\n",
              "    }\n",
              "</style>\n",
              "<table border=\"1\" class=\"dataframe\">\n",
              "  <thead>\n",
              "    <tr style=\"text-align: right;\">\n",
              "      <th></th>\n",
              "      <th>person_age</th>\n",
              "      <th>person_gender</th>\n",
              "      <th>person_education</th>\n",
              "      <th>person_income</th>\n",
              "      <th>person_emp_exp</th>\n",
              "      <th>person_home_ownership</th>\n",
              "      <th>loan_amnt</th>\n",
              "      <th>loan_intent</th>\n",
              "      <th>loan_int_rate</th>\n",
              "      <th>loan_percent_income</th>\n",
              "      <th>cb_person_cred_hist_length</th>\n",
              "      <th>credit_score</th>\n",
              "      <th>previous_loan_defaults_on_file</th>\n",
              "      <th>loan_status</th>\n",
              "    </tr>\n",
              "  </thead>\n",
              "  <tbody>\n",
              "    <tr>\n",
              "      <th>0</th>\n",
              "      <td>22.0</td>\n",
              "      <td>female</td>\n",
              "      <td>Master</td>\n",
              "      <td>71948.0</td>\n",
              "      <td>0</td>\n",
              "      <td>RENT</td>\n",
              "      <td>35000.0</td>\n",
              "      <td>PERSONAL</td>\n",
              "      <td>16.02</td>\n",
              "      <td>0.49</td>\n",
              "      <td>3.0</td>\n",
              "      <td>561</td>\n",
              "      <td>No</td>\n",
              "      <td>1</td>\n",
              "    </tr>\n",
              "    <tr>\n",
              "      <th>1</th>\n",
              "      <td>21.0</td>\n",
              "      <td>female</td>\n",
              "      <td>High School</td>\n",
              "      <td>12282.0</td>\n",
              "      <td>0</td>\n",
              "      <td>OWN</td>\n",
              "      <td>1000.0</td>\n",
              "      <td>EDUCATION</td>\n",
              "      <td>11.14</td>\n",
              "      <td>0.08</td>\n",
              "      <td>2.0</td>\n",
              "      <td>504</td>\n",
              "      <td>Yes</td>\n",
              "      <td>0</td>\n",
              "    </tr>\n",
              "    <tr>\n",
              "      <th>2</th>\n",
              "      <td>25.0</td>\n",
              "      <td>female</td>\n",
              "      <td>High School</td>\n",
              "      <td>12438.0</td>\n",
              "      <td>3</td>\n",
              "      <td>MORTGAGE</td>\n",
              "      <td>5500.0</td>\n",
              "      <td>MEDICAL</td>\n",
              "      <td>12.87</td>\n",
              "      <td>0.44</td>\n",
              "      <td>3.0</td>\n",
              "      <td>635</td>\n",
              "      <td>No</td>\n",
              "      <td>1</td>\n",
              "    </tr>\n",
              "    <tr>\n",
              "      <th>3</th>\n",
              "      <td>23.0</td>\n",
              "      <td>female</td>\n",
              "      <td>Bachelor</td>\n",
              "      <td>79753.0</td>\n",
              "      <td>0</td>\n",
              "      <td>RENT</td>\n",
              "      <td>35000.0</td>\n",
              "      <td>MEDICAL</td>\n",
              "      <td>15.23</td>\n",
              "      <td>0.44</td>\n",
              "      <td>2.0</td>\n",
              "      <td>675</td>\n",
              "      <td>No</td>\n",
              "      <td>1</td>\n",
              "    </tr>\n",
              "    <tr>\n",
              "      <th>4</th>\n",
              "      <td>24.0</td>\n",
              "      <td>male</td>\n",
              "      <td>Master</td>\n",
              "      <td>66135.0</td>\n",
              "      <td>1</td>\n",
              "      <td>RENT</td>\n",
              "      <td>35000.0</td>\n",
              "      <td>MEDICAL</td>\n",
              "      <td>14.27</td>\n",
              "      <td>0.53</td>\n",
              "      <td>4.0</td>\n",
              "      <td>586</td>\n",
              "      <td>No</td>\n",
              "      <td>1</td>\n",
              "    </tr>\n",
              "  </tbody>\n",
              "</table>\n",
              "</div>"
            ],
            "text/plain": [
              "   person_age person_gender person_education  person_income  person_emp_exp  \\\n",
              "0        22.0        female           Master        71948.0               0   \n",
              "1        21.0        female      High School        12282.0               0   \n",
              "2        25.0        female      High School        12438.0               3   \n",
              "3        23.0        female         Bachelor        79753.0               0   \n",
              "4        24.0          male           Master        66135.0               1   \n",
              "\n",
              "  person_home_ownership  loan_amnt loan_intent  loan_int_rate  \\\n",
              "0                  RENT    35000.0    PERSONAL          16.02   \n",
              "1                   OWN     1000.0   EDUCATION          11.14   \n",
              "2              MORTGAGE     5500.0     MEDICAL          12.87   \n",
              "3                  RENT    35000.0     MEDICAL          15.23   \n",
              "4                  RENT    35000.0     MEDICAL          14.27   \n",
              "\n",
              "   loan_percent_income  cb_person_cred_hist_length  credit_score  \\\n",
              "0                 0.49                         3.0           561   \n",
              "1                 0.08                         2.0           504   \n",
              "2                 0.44                         3.0           635   \n",
              "3                 0.44                         2.0           675   \n",
              "4                 0.53                         4.0           586   \n",
              "\n",
              "  previous_loan_defaults_on_file  loan_status  \n",
              "0                             No            1  \n",
              "1                            Yes            0  \n",
              "2                             No            1  \n",
              "3                             No            1  \n",
              "4                             No            1  "
            ]
          },
          "execution_count": 18,
          "metadata": {},
          "output_type": "execute_result"
        }
      ],
      "source": [
        "# View df\n",
        "df.head()"
      ]
    },
    {
      "cell_type": "code",
<<<<<<< Updated upstream
<<<<<<< HEAD
      "execution_count": 19,
=======
      "execution_count": 2,
>>>>>>> 089c65b4f8fc32fa07773919ef5700f49ff55dea
=======
      "execution_count": 17,
>>>>>>> Stashed changes
      "id": "173a3248",
      "metadata": {
        "colab": {
          "base_uri": "https://localhost:8080/"
        },
        "id": "173a3248",
        "outputId": "9f1c6a1c-15be-4344-988a-be06d70b684e"
      },
      "outputs": [
        {
          "name": "stdout",
          "output_type": "stream",
          "text": [
            "Number of columns after preprocessing: 22\n"
          ]
        }
      ],
      "source": [
        "import numpy as np\n",
        "from sklearn import preprocessing\n",
        "from sklearn.model_selection import train_test_split\n",
        "\n",
        "# Step 3 Preprocess\n",
        "\n",
        "# Convert yes no column to boolean\n",
        "loans_bool = (np.where(df[\"previous_loan_defaults_on_file\"] == \"Yes\", True, False)).reshape(-1, 1)\n",
        "\n",
        "# Seperate out dependent variable\n",
        "y = df[\"loan_status\"]\n",
        "\n",
        "\n",
        "# Numerical Variables\n",
        "numerical = df[[\"person_age\", \"person_income\", \"person_emp_exp\", \"loan_amnt\", \"loan_int_rate\", \"loan_percent_income\", \"cb_person_cred_hist_length\", \"credit_score\"]]\n",
        "\n",
        "# Min Max scale numerical data\n",
        "scaler = preprocessing.MinMaxScaler()\n",
        "numerical_scaled = scaler.fit_transform(numerical)\n",
        "\n",
        "\n",
        "# Categorical Variables\n",
        "categorical = df[[\"person_gender\", \"person_education\", \"person_home_ownership\", \"loan_intent\"]]\n",
        "categorical_dummies = pd.get_dummies(categorical, drop_first=True)\n",
        "categorical_dummies_array = np.array(categorical_dummies)\n",
        "\n",
        "# Column names / order\n",
        "columns = list(numerical.columns) + list(categorical_dummies.columns) + [\"previous_loan_defaults_on_file\"]\n",
        "\n",
        "# Create Phi with numerical, categorical, and boolean variables\n",
        "Phi = np.hstack((numerical_scaled, categorical_dummies_array, loans_bool))\n",
        "\n",
        "print(f\"Number of columns after preprocessing: {Phi.shape[1]}\")\n",
        "\n",
        "X_train, X_test, y_train, y_test = train_test_split(Phi, y, test_size=0.2, random_state=23)\n",
        "X_train, y_train, X_test, y_test = np.array(X_train), np.array(y_train), np.array(X_test), np.array(y_test)"
      ]
    },
    {
      "cell_type": "code",
<<<<<<< Updated upstream
<<<<<<< HEAD
      "execution_count": 20,
=======
      "execution_count": 7,
>>>>>>> 089c65b4f8fc32fa07773919ef5700f49ff55dea
=======
      "execution_count": null,
      "id": "393a84c2",
      "metadata": {},
      "outputs": [],
      "source": [
        "# Imports for displaying all model results\n",
        "from sklearn.metrics import classification_report\n",
        "import matplotlib.pyplot as plt"
      ]
    },
    {
      "cell_type": "code",
      "execution_count": 31,
>>>>>>> Stashed changes
      "id": "08e3b1f4",
      "metadata": {
        "id": "08e3b1f4"
      },
      "outputs": [],
      "source": [
        "# KNN\n",
        "def run_knn(X_train, y_train, X_test, y_test, k):\n",
        "    predictions = []\n",
        "\n",
        "    for test_point in X_test:\n",
        "        # L2 distances\n",
        "        distances = np.sqrt(np.sum((X_train - test_point) ** 2, axis=1))\n",
        "\n",
        "        # K nearest neighbors\n",
        "        knn_indices = np.argsort(distances)[:k]\n",
        "        knn_labels = y_train[knn_indices]\n",
        "\n",
        "        # Calculate mode\n",
        "        unique_values, counts = np.unique(knn_labels, return_counts=True)\n",
        "        mode_index = np.argmax(counts)\n",
        "        predicted_class = unique_values[mode_index]\n",
        "\n",
        "        predictions.append(predicted_class)\n",
        "\n",
        "    # Prediction accuracy\n",
        "    y_pred = np.array(predictions)\n",
        "    accuracy = np.mean(y_pred == y_test)\n",
        "    return accuracy, y_pred"
      ]
    },
    {
      "cell_type": "code",
<<<<<<< Updated upstream
      "execution_count": 21,
=======
      "execution_count": 34,
>>>>>>> Stashed changes
      "id": "15a5fa9d",
      "metadata": {
        "colab": {
          "base_uri": "https://localhost:8080/",
          "height": 866
        },
        "id": "15a5fa9d",
        "outputId": "e37a5cf0-a9d3-4cea-86d9-f34357f9475c"
      },
      "outputs": [
        {
          "name": "stdout",
          "output_type": "stream",
          "text": [
            "K = 15, Accuracy: 0.8948\n",
            "K = 20, Accuracy: 0.8946\n",
            "K = 23, Accuracy: 0.8948\n",
            "K = 25, Accuracy: 0.8950\n",
<<<<<<< Updated upstream
            "K = 50, Accuracy: 0.8909\n",
            "K = 75, Accuracy: 0.8854\n",
            "K = 100, Accuracy: 0.8742\n",
            "K = 125, Accuracy: 0.8697\n"
          ]
=======
            "K = 30, Accuracy: 0.8947\n"
          ]
        },
        {
          "data": {
            "image/png": "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",
            "text/plain": [
              "<Figure size 640x480 with 1 Axes>"
            ]
          },
          "metadata": {},
          "output_type": "display_data"
>>>>>>> Stashed changes
        }
      ],
      "source": [
        "# Params\n",
        "n = X_train.shape[0]\n",
        "sqrt_n = int(np.sqrt(n).round())  # 190\n",
        "\n",
        "k_values = [15, 20, 23, 25, 30]   # Some test ks\n",
        "\n",
        "\n",
        "# Run KNN for different k values in a for loop\n",
        "accuracies = []\n",
        "for k in k_values:\n",
        "    accuracy, y_pred = run_knn(X_train, y_train, X_test, y_test, k)\n",
        "    accuracies.append(accuracy)\n",
        "    print(f\"K = {k}, Accuracy: {accuracy:.4f}\")\n",
        "\n",
        "# Plot k vs accuracy\n",
        "plt.plot(k_values, accuracies)\n",
        "plt.xlabel(\"Number of Neighbors (k)\")\n",
        "plt.ylabel(\"Accuracy\")\n",
        "plt.title(\"KNN Accuracy vs Number of Neighbors\")\n",
        "plt.show()"
      ]
    },
    {
      "cell_type": "code",
      "execution_count": null,
      "id": "5736319d",
      "metadata": {
        "id": "5736319d",
        "outputId": "975a47b3-deb0-4619-e094-6b1aefdbc8c2"
      },
      "outputs": [
        {
          "name": "stdout",
          "output_type": "stream",
          "text": [
            "\n",
            "Classification Report:\n",
            "              precision    recall  f1-score   support\n",
            "\n",
            "           0       0.93      0.94      0.93      6995\n",
            "           1       0.78      0.74      0.76      2005\n",
            "\n",
            "    accuracy                           0.90      9000\n",
            "   macro avg       0.85      0.84      0.85      9000\n",
            "weighted avg       0.89      0.90      0.89      9000\n",
            "\n"
          ]
        }
      ],
      "source": [
        "# Best k was 25\n",
        "k = 25\n",
        "accuracy, predictions = run_knn(X_train, y_train, X_test, y_test, k)\n",
        "\n",
        "# Classification report\n",
        "print(\"\\nClassification Report:\")\n",
        "print(classification_report(y_test, y_pred))\n"
      ]
    },
    {
      "cell_type": "markdown",
      "id": "480a1825",
      "metadata": {
        "id": "480a1825"
      },
      "source": [
        "The best k was clearly 25 (though this is also very dependent on the random state), and the results were decently strong with an accuracy of 90% correct predictions. There is clearly a strong class imbalance with more 0s than 1s, and the model is not handling that very well with significantly lower prediction accuracies for predicting a 1 than a 0. This could potentially be improved by imputing some dummy data points."
      ]
    },
    {
      "cell_type": "code",
      "execution_count": null,
      "id": "f3196ab3",
      "metadata": {
        "id": "f3196ab3",
        "outputId": "7831a5a7-1605-494a-f20b-613cdb047eb9"
      },
      "outputs": [
        {
          "name": "stdout",
          "output_type": "stream",
          "text": [
            "Classification Report:\n",
            "              precision    recall  f1-score   support\n",
            "\n",
            "           0       0.93      0.97      0.95      6995\n",
            "           1       0.90      0.75      0.82      2005\n",
            "\n",
            "    accuracy                           0.93      9000\n",
            "   macro avg       0.91      0.86      0.89      9000\n",
            "weighted avg       0.92      0.93      0.92      9000\n",
            "\n",
            "\n",
            "Feature Importance:\n",
            "                           Feature  Importance\n",
            "21  previous_loan_defaults_on_file    0.284019\n",
            "4                    loan_int_rate    0.140659\n",
            "5              loan_percent_income    0.139325\n",
            "1                    person_income    0.113094\n",
            "3                        loan_amnt    0.059230\n",
            "7                     credit_score    0.053026\n",
            "15      person_home_ownership_RENT    0.047536\n",
            "0                       person_age    0.031821\n",
            "2                   person_emp_exp    0.028236\n",
            "6       cb_person_cred_hist_length    0.026445\n"
          ]
        }
      ],
      "source": [
        "# Random Forest\n",
        "from sklearn.ensemble import RandomForestClassifier\n",
        "# We can use the same train test as scaling should not matter for random forest\n",
        "\n",
        "rf = RandomForestClassifier(max_depth=None, random_state=23, criterion=\"entropy\")\n",
        "\n",
        "# Train the model\n",
        "rf.fit(X_train, y_train)\n",
        "\n",
        "# Predictions\n",
        "y_pred = rf.predict(X_test)\n",
        "\n",
        "# Model performance\n",
        "print(\"Classification Report:\")\n",
        "print(classification_report(y_test, y_pred))\n",
        "\n",
        "# Feature importance\n",
        "feature_importance = rf.feature_importances_\n",
        "feature_names = [f\"Feature {i}\" for i in range(Phi.shape[1])]\n",
        "\n",
        "# Make feature importance and display top 10\n",
        "importance_df = pd.DataFrame({\"Feature\": columns, \"Importance\": feature_importance})\n",
        "importance_df = importance_df.sort_values(\"Importance\", ascending=False)\n",
        "print(\"\\nFeature Importance:\")\n",
        "print(importance_df.head(10))\n",
        "\n"
      ]
    },
    {
      "cell_type": "markdown",
      "id": "6756b6a4",
      "metadata": {
        "id": "6756b6a4"
      },
      "source": [
        "The model does better at predicting 0s (defaulting the loan) than 1s (completing the payment). This is likely due to a strong class imbalance with more 0s than 1s in the dataset. Despite the strong imbalance, the model results were relatively good with an accuracy of 93% correct predictions. The model is clearly better than the knn, and significantly outperforms it for predicting 1s.\n",
        "\n",
        "The most important features that provided the best splits were the persons yearly income, the loan percent of the income, the loan interest rate, and by far if the person had previous loan defaults on file. These all make a lot of sense as they seem incredibly relevant to the prediction. All of these statistics are very strongly correlated, so I wonder if they are not all necessary in a simplified model."
      ]
    },
    {
      "cell_type": "code",
      "execution_count": null,
      "id": "9e4c2f0b",
      "metadata": {
        "id": "9e4c2f0b"
      },
      "outputs": [],
      "source": [
        "# Logistic Regression\n",
        "def sigmoid(x, w):\n",
        "    return 1/(1 + np.exp(-x.T.dot(w)))\n",
        "\n",
        "def logistic_grad(X, y, w):\n",
        "    L = 0\n",
        "    for i, j in enumerate(X):\n",
        "        x = j.reshape(X.shape[1], 1)\n",
        "        L += (sigmoid(x, w) - y[i])*x\n",
        "\n",
        "    dL_dw = L/len(X)\n",
        "    return dL_dw\n",
        "\n",
        "def gradient_descent(X, y, w, eta, epochs):\n",
        "    for i in range(epochs):\n",
        "        w = w - eta*logistic_grad(X, y, w)\n",
        "    return w"
      ]
    },
    {
      "cell_type": "code",
      "execution_count": null,
      "id": "a0c5900c",
      "metadata": {
        "id": "a0c5900c"
      },
      "outputs": [],
      "source": [
        "# Params\n",
        "w0 = np.ones(X_train.shape[1]).reshape(-1, 1)\n",
        "eta = 0.1\n",
        "epochs = 1000\n",
        "\n",
        "# Run Gradient Descent to (hopefully) improve predictions\n",
        "w_gd = gradient_descent(X_train, y_train, w0, eta, epochs)"
      ]
    },
    {
      "cell_type": "code",
      "execution_count": null,
      "id": "WlyKU-nv450i",
      "metadata": {
        "colab": {
          "base_uri": "https://localhost:8080/"
        },
        "id": "WlyKU-nv450i",
        "outputId": "60498670-bf64-46d1-f19e-4d8697a6fcd8"
      },
      "outputs": [
        {
          "name": "stdout",
          "output_type": "stream",
          "text": [
            "Classification Report:\n",
            "              precision    recall  f1-score   support\n",
            "\n",
            "           0       0.90      0.93      0.92      6995\n",
            "           1       0.73      0.65      0.69      2005\n",
            "\n",
            "    accuracy                           0.87      9000\n",
            "   macro avg       0.82      0.79      0.80      9000\n",
            "weighted avg       0.86      0.87      0.87      9000\n",
            "\n",
            "                           Feature    Weight  Abs Weight\n",
            "21  previous_loan_defaults_on_file -3.650623    3.650623\n",
            "7                     credit_score -1.944156    1.944156\n",
            "5              loan_percent_income  1.187906    1.187906\n",
            "13     person_home_ownership_OTHER  0.971100    0.971100\n",
            "1                    person_income  0.904140    0.904140\n",
            "15      person_home_ownership_RENT  0.840629    0.840629\n",
            "4                    loan_int_rate  0.824476    0.824476\n",
            "10      person_education_Doctorate  0.700354    0.700354\n",
            "2                   person_emp_exp  0.656345    0.656345\n",
            "0                       person_age  0.554372    0.554372\n",
            "20             loan_intent_VENTURE -0.438174    0.438174\n",
            "16           loan_intent_EDUCATION -0.330409    0.330409\n",
            "8               person_gender_male -0.266614    0.266614\n",
            "17     loan_intent_HOMEIMPROVEMENT  0.228360    0.228360\n",
            "9        person_education_Bachelor -0.195439    0.195439\n",
            "19            loan_intent_PERSONAL -0.173963    0.173963\n",
            "11    person_education_High School -0.148318    0.148318\n",
            "18             loan_intent_MEDICAL  0.139114    0.139114\n",
            "12         person_education_Master -0.126901    0.126901\n",
            "3                        loan_amnt  0.062881    0.062881\n",
            "14       person_home_ownership_OWN -0.054677    0.054677\n",
            "6       cb_person_cred_hist_length -0.018024    0.018024\n"
          ]
        }
      ],
      "source": [
        "# Evaluate logistic regression model\n",
        "preds = []\n",
        "for i in range(X_test.shape[0]):\n",
        "    preds.append(int(sigmoid(X_test[i,:], w_gd)[0] > .5))\n",
        "\n",
        "# Model performance\n",
        "print(\"Classification Report:\")\n",
        "print(classification_report(y_test, preds))\n",
        "\n",
        "# Create and sort importance dataframe\n",
        "importance_df = pd.DataFrame({\"Feature\": columns, \"Weight\": w_gd.reshape(-1), \"Abs Weight\": np.abs(w_gd.reshape(-1))})\n",
        "importance_df = importance_df.sort_values(\"Abs Weight\", ascending=False)\n",
        "print(importance_df)\n",
        "# print(w_gd)"
      ]
    },
    {
      "cell_type": "code",
      "execution_count": null,
      "id": "7ca86144",
      "metadata": {},
      "outputs": [
        {
          "name": "stdout",
          "output_type": "stream",
          "text": [
            "Number of columns after preprocessing: 22\n"
          ]
        }
      ],
      "source": [
        "# Scaling data differently for LDA, PCA, and SVM\n",
        "from sklearn.preprocessing import StandardScaler\n",
        "\n",
        "# Standard scale numerical data\n",
        "scaler =  StandardScaler()\n",
        "numerical_scaled = scaler.fit_transform(numerical)\n",
        "\n",
        "\n",
        "# Create Phi with numerical, categorical, and boolean variables\n",
        "Phi_standard = np.hstack((numerical_scaled, categorical_dummies_array, loans_bool))\n",
        "\n",
        "print(f\"Number of columns after preprocessing: {Phi_standard.shape[1]}\")\n",
        "\n",
        "X_train_standard, X_test_standard, y_train_standard, y_test_standard = train_test_split(Phi_standard, y, test_size=0.2, random_state=23)\n",
        "X_train_standard, y_train_standard, X_test_standard, y_test_standard = np.array(X_train_standard), np.array(y_train_standard), np.array(X_test_standard), np.array(y_test_standard)"
      ]
    },
    {
      "cell_type": "code",
      "execution_count": null,
      "id": "17VuOBdK1cWc",
      "metadata": {
        "id": "17VuOBdK1cWc"
      },
      "outputs": [
        {
          "name": "stdout",
          "output_type": "stream",
          "text": [
            "Classification Report:\n",
            "              precision    recall  f1-score   support\n",
            "\n",
            "           0       0.93      0.93      0.93      6995\n",
            "           1       0.76      0.75      0.75      2005\n",
            "\n",
            "    accuracy                           0.89      9000\n",
            "   macro avg       0.84      0.84      0.84      9000\n",
            "weighted avg       0.89      0.89      0.89      9000\n",
            "\n"
          ]
        },
        {
          "data": {
            "text/plain": [
              "<matplotlib.legend.Legend at 0x212ae383650>"
            ]
          },
          "execution_count": 28,
          "metadata": {},
          "output_type": "execute_result"
        },
        {
          "data": {
            "image/png": "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",
            "text/plain": [
              "<Figure size 1000x600 with 1 Axes>"
            ]
          },
          "metadata": {},
          "output_type": "display_data"
        }
      ],
      "source": [
        "# LDA\n",
        "from sklearn.discriminant_analysis import LinearDiscriminantAnalysis\n",
        "\n",
        "# 2d space\n",
        "lda = LinearDiscriminantAnalysis(n_components=1)\n",
        "\n",
        "# Train model\n",
        "lda.fit(X_train_standard, y_train_standard)\n",
        "\n",
        "# Predict on the Test Set\n",
        "y_pred = lda.predict(X_test_standard)\n",
        "\n",
        "# Model performance\n",
        "print(\"Classification Report:\")\n",
        "print(classification_report(y_test_standard, y_pred))\n",
        "\n",
        "X_transformed = lda.transform(Phi_standard)\n",
        "\n",
        "for class_value in np.unique(y):\n",
        "    class_data = X_transformed[y == class_value]\n",
        "    plt.hist(class_data, alpha=0.5, bins=30, density=True, \n",
        "             label=f'Class {class_value}')\n",
        "plt.xlabel(\"LDA Component 1\")\n",
        "plt.ylabel(\"Density\")\n",
        "plt.title(\"LDA Component Distribution by Class\")\n",
        "plt.legend()"
      ]
    },
    {
      "cell_type": "markdown",
      "id": "0d669f00",
      "metadata": {},
      "source": [
        "Because it is a binary classification, we only can have one component as there is only one hyperplane division to split the components. There is some clear overlap, which is expected, but the model does a surprisingly strong job seperating the data on just one hyperplane. Would be interesting to see if SVM has a similar division."
      ]
    },
    {
      "cell_type": "code",
      "execution_count": null,
      "id": "46df3566",
      "metadata": {},
      "outputs": [
        {
          "name": "stdout",
          "output_type": "stream",
          "text": [
            "Classification Report:\n",
            "              precision    recall  f1-score   support\n",
            "\n",
            "           0       0.93      0.94      0.93      6995\n",
            "           1       0.78      0.74      0.76      2005\n",
            "\n",
            "    accuracy                           0.90      9000\n",
            "   macro avg       0.85      0.84      0.85      9000\n",
            "weighted avg       0.89      0.90      0.89      9000\n",
            "\n"
          ]
        }
      ],
      "source": [
        "# SVM\n",
        "from sklearn.svm import SVC\n",
        "\n",
        "svm = SVC(kernel='linear', C=1)\n",
        "svm.fit(X_train_standard, y_train_standard)\n",
        "\n",
        "# Predict on test\n",
        "y_pred = svm.predict(X_test_standard)\n",
        "\n",
        "# Model performance\n",
        "print(\"Classification Report:\")\n",
        "print(classification_report(y_test_standard, y_pred))"
      ]
    }
  ],
  "metadata": {
    "colab": {
      "provenance": []
    },
    "kernelspec": {
      "display_name": "base",
      "language": "python",
      "name": "python3"
    },
    "language_info": {
      "codemirror_mode": {
        "name": "ipython",
        "version": 3
      },
      "file_extension": ".py",
      "mimetype": "text/x-python",
      "name": "python",
      "nbconvert_exporter": "python",
      "pygments_lexer": "ipython3",
      "version": "3.11.8"
    }
  },
  "nbformat": 4,
  "nbformat_minor": 5
}
